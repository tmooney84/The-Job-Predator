{
 "cells": [
  {
   "cell_type": "code",
   "execution_count": 3,
   "id": "432a5ce3-c148-4d44-b29b-1840eb382233",
   "metadata": {},
   "outputs": [
    {
     "ename": "ModuleNotFoundError",
     "evalue": "No module named 'selenium'",
     "output_type": "error",
     "traceback": [
      "\u001b[0;31m---------------------------------------------------------------------------\u001b[0m",
      "\u001b[0;31mModuleNotFoundError\u001b[0m                       Traceback (most recent call last)",
      "Cell \u001b[0;32mIn[3], line 1\u001b[0m\n\u001b[0;32m----> 1\u001b[0m \u001b[38;5;28;01mfrom\u001b[39;00m \u001b[38;5;21;01mselenium\u001b[39;00m \u001b[38;5;28;01mimport\u001b[39;00m webdriver\n\u001b[1;32m      2\u001b[0m \u001b[38;5;28;01mfrom\u001b[39;00m \u001b[38;5;21;01mselenium\u001b[39;00m\u001b[38;5;21;01m.\u001b[39;00m\u001b[38;5;21;01mwebdriver\u001b[39;00m\u001b[38;5;21;01m.\u001b[39;00m\u001b[38;5;21;01mchrome\u001b[39;00m\u001b[38;5;21;01m.\u001b[39;00m\u001b[38;5;21;01mservice\u001b[39;00m \u001b[38;5;28;01mimport\u001b[39;00m Service\n\u001b[1;32m      3\u001b[0m \u001b[38;5;28;01mfrom\u001b[39;00m \u001b[38;5;21;01mselenium\u001b[39;00m\u001b[38;5;21;01m.\u001b[39;00m\u001b[38;5;21;01mwebdriver\u001b[39;00m\u001b[38;5;21;01m.\u001b[39;00m\u001b[38;5;21;01mchrome\u001b[39;00m\u001b[38;5;21;01m.\u001b[39;00m\u001b[38;5;21;01moptions\u001b[39;00m \u001b[38;5;28;01mimport\u001b[39;00m Options\n",
      "\u001b[0;31mModuleNotFoundError\u001b[0m: No module named 'selenium'"
     ]
    }
   ],
   "source": [
    "from selenium import webdriver\n",
    "from selenium.webdriver.chrome.service import Service\n",
    "from selenium.webdriver.chrome.options import Options\n",
    "from selenium.webdriver.common.by import By\n",
    "from selenium.webdriver.support.ui import WebDriverWait\n",
    "from selenium.webdriver.support import expected_conditions as EC\n",
    "from bs4 import BeautifulSoup\n",
    "from selenium import webdriver\n",
    "import pandas as pd\n",
    "from selenium.webdriver.common.keys import Keys\n",
    "import time\n",
    "from selenium.common.exceptions import NoSuchAttributeException\n",
    "import json\n",
    "import re"
   ]
  },
  {
   "cell_type": "code",
   "execution_count": null,
   "id": "73652e0c-5542-4de8-a247-83d486161f57",
   "metadata": {},
   "outputs": [],
   "source": [
    "driver = webdriver.Chrome()\n",
    "driver.get(\"https://www.ibm.com/careers/search?field_keyword_08%5B0%5D=Consulting&field_keyword_08%5B1%5D=Enterprise%20Operations&field_keyword_08%5B2%5D=Infrastructure%20%26%20Technology&field_keyword_08%5B3%5D=Software%20Engineering&field_keyword_05%5B0%5D=United%20States\")\n",
    "\n",
    "wait = WebDriverWait(driver, 20)\n",
    "\n",
    "# Wait for first page to load\n",
    "wait.until(EC.presence_of_element_located((By.CLASS_NAME, \"bx--card__wrapper\")))\n",
    "\n",
    "page_source = []\n",
    "\n",
    "while True:\n",
    "    page_source.append(driver.page_source)\n",
    "\n",
    "    try:\n",
    "        # Wait for \"Next\" button to be clickable\n",
    "        next_button = wait.until(EC.element_to_be_clickable(\n",
    "            (By.ID, \"IBMAccessibleItemComponents-next\")\n",
    "        ))\n",
    "\n",
    "        # Click using JS to avoid interception issues\n",
    "        driver.execute_script(\"arguments[0].click();\", next_button)\n",
    "\n",
    "        # Wait for new content to load\n",
    "        time.sleep(3)\n",
    "\n",
    "        # Optional: Wait for job cards again (if needed)\n",
    "        wait.until(EC.presence_of_element_located((By.CLASS_NAME, \"bx--card__wrapper\")))\n",
    "\n",
    "    except:\n",
    "        print(\"No more pages.\")\n",
    "        break\n",
    "\n",
    "driver.quit()"
   ]
  },
  {
   "cell_type": "code",
   "execution_count": null,
   "id": "604a6e7d-32b6-4119-a7dc-3403589581f9",
   "metadata": {},
   "outputs": [],
   "source": [
    "page_source = ''.join(page_source)\n",
    "soup = BeautifulSoup(page_source, 'html.parser')\n",
    "\n",
    "job_cards = soup.find_all('div', class_=\"bx--card-group__cards__col\")"
   ]
  },
  {
   "cell_type": "code",
   "execution_count": null,
   "id": "630b5cf4-5510-489f-af2e-34feb2cd7c98",
   "metadata": {},
   "outputs": [],
   "source": [
    "import re\n",
    "\n",
    "jobs = {\n",
    "    'company': 'IBM',\n",
    "    'title': [],\n",
    "    'location': [],\n",
    "    'category': [],\n",
    "    'experience_level': [],\n",
    "    'link' : []\n",
    "}\n",
    "\n",
    "pattern = r\"^(Entry Level|Professional)\"\n",
    "\n",
    "for card in job_cards:\n",
    "    raw_location = card.div.div.div.find('div', class_=\"ibm--card__copy__inner\").text.strip()\n",
    "\n",
    "    # Match experience level safely\n",
    "    match = re.match(pattern, raw_location, flags=re.IGNORECASE)\n",
    "    if match:\n",
    "        experience_level = match.group(1)\n",
    "        location = raw_location.replace(experience_level, '').strip()\n",
    "    else:\n",
    "        experience_level = \"Unknown\"\n",
    "        location = raw_location  # leave full string as location\n",
    "    jobs['link'].append(card.a['href'])\n",
    "    jobs['title'].append(card['aria-label'])\n",
    "    jobs['category'].append(card.div.div.div.div.text.strip())\n",
    "    jobs['location'].append(location)\n",
    "    jobs['experience_level'].append(experience_level)"
   ]
  },
  {
   "cell_type": "code",
   "execution_count": null,
   "id": "a8142334",
   "metadata": {},
   "outputs": [],
   "source": []
  },
  {
   "cell_type": "code",
   "execution_count": null,
   "id": "88d0e634-3d78-455d-8d98-915e43de4bda",
   "metadata": {},
   "outputs": [],
   "source": [
    "df = pd.DataFrame(jobs)"
   ]
  },
  {
   "cell_type": "code",
   "execution_count": null,
   "id": "a6c0aa41-6c67-4c33-973e-f6aa6066a64e",
   "metadata": {},
   "outputs": [],
   "source": [
    "df"
   ]
  }
 ],
 "metadata": {
  "kernelspec": {
   "display_name": "pytest-demo-z9aLyFen",
   "language": "python",
   "name": "python3"
  },
  "language_info": {
   "codemirror_mode": {
    "name": "ipython",
    "version": 3
   },
   "file_extension": ".py",
   "mimetype": "text/x-python",
   "name": "python",
   "nbconvert_exporter": "python",
   "pygments_lexer": "ipython3",
   "version": "3.12.3"
  }
 },
 "nbformat": 4,
 "nbformat_minor": 5
}
