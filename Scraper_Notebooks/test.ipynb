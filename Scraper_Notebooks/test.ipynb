{
 "cells": [
  {
   "cell_type": "code",
   "execution_count": 1,
   "id": "5adbc6ae-dbd7-4b65-a5be-2d738c0f58b0",
   "metadata": {
    "scrolled": true
   },
   "outputs": [
    {
     "ename": "ModuleNotFoundError",
     "evalue": "No module named 'selenium'",
     "output_type": "error",
     "traceback": [
      "\u001b[0;31m---------------------------------------------------------------------------\u001b[0m",
      "\u001b[0;31mModuleNotFoundError\u001b[0m                       Traceback (most recent call last)",
      "Cell \u001b[0;32mIn[1], line 1\u001b[0m\n\u001b[0;32m----> 1\u001b[0m \u001b[38;5;28;01mfrom\u001b[39;00m \u001b[38;5;21;01mselenium\u001b[39;00m \u001b[38;5;28;01mimport\u001b[39;00m webdriver\n\u001b[1;32m      2\u001b[0m \u001b[38;5;28;01mfrom\u001b[39;00m \u001b[38;5;21;01mselenium\u001b[39;00m\u001b[38;5;21;01m.\u001b[39;00m\u001b[38;5;21;01mwebdriver\u001b[39;00m\u001b[38;5;21;01m.\u001b[39;00m\u001b[38;5;21;01mchrome\u001b[39;00m\u001b[38;5;21;01m.\u001b[39;00m\u001b[38;5;21;01mservice\u001b[39;00m \u001b[38;5;28;01mimport\u001b[39;00m Service\n\u001b[1;32m      3\u001b[0m \u001b[38;5;28;01mfrom\u001b[39;00m \u001b[38;5;21;01mselenium\u001b[39;00m\u001b[38;5;21;01m.\u001b[39;00m\u001b[38;5;21;01mwebdriver\u001b[39;00m\u001b[38;5;21;01m.\u001b[39;00m\u001b[38;5;21;01mchrome\u001b[39;00m\u001b[38;5;21;01m.\u001b[39;00m\u001b[38;5;21;01moptions\u001b[39;00m \u001b[38;5;28;01mimport\u001b[39;00m Options\n",
      "\u001b[0;31mModuleNotFoundError\u001b[0m: No module named 'selenium'"
     ]
    }
   ],
   "source": [
    "from selenium import webdriver\n",
    "from selenium.webdriver.chrome.service import Service\n",
    "from selenium.webdriver.chrome.options import Options\n",
    "from selenium.webdriver.common.by import By\n",
    "from selenium.webdriver.support.ui import WebDriverWait\n",
    "from selenium.webdriver.support import expected_conditions as EC\n",
    "from bs4 import BeautifulSoup\n",
    "from selenium import webdriver\n",
    "import pandas as pd\n",
    "from selenium.webdriver.common.keys import Keys\n",
    "import time\n",
    "from selenium.common.exceptions import NoSuchAttributeException\n",
    "import json\n"
   ]
  },
  {
   "cell_type": "code",
   "execution_count": null,
   "id": "7beffefe-e2b2-4dd2-bb1d-aad0787a1016",
   "metadata": {},
   "outputs": [],
   "source": [
    "def gopher_broke(driver:webdriver, url:str, query:str, location:str):\n",
    "    try:\n",
    "        driver.get(url)\n",
    "        \n",
    "        time.sleep(2)\n",
    "        \n",
    "        keyword_input = driver.find_element(By.ID, \"typeaheadInput\")\n",
    "        keyword_input.clear()\n",
    "        keyword_input.send_keys(query)\n",
    "        \n",
    "        location_input = driver.find_element(By.ID, \"google-location-search\")\n",
    "        location_input.clear()\n",
    "        location_input.send_keys(location)\n",
    "        \n",
    "        location_input.send_keys(Keys.RETURN)\n",
    "        \n",
    "        time.sleep(5)\n",
    "        \n",
    "        \n",
    "        data = BeautifulSoup(driver.page_source, 'html.parser')\n",
    "        driver.quit()\n",
    "        \n",
    "        desc = data.find('div', class_=\"m-px mx-auto max-w-screen-2xl sm:px-6\")\n",
    "        jobs = desc.div.find_all('div')\n",
    "        info = desc.div.find_all('div', class_='content')\n",
    "        head = desc.div.find_all('div', class_='header')\n",
    "        links:list = []\n",
    "        descriptions:list = []\n",
    "        companies:list = []\n",
    "        job_types:list = []\n",
    "        salaries:list = []\n",
    "        easy_apply:list = []\n",
    "        for listing in jobs:\n",
    "            if listing.find('div') is None:\n",
    "                continue\n",
    "            job_card = listing.find('div')\n",
    "            if job_card.a is None:\n",
    "                continue\n",
    "            links.append(listing.div.a['href'])\n",
    "        for item in info:\n",
    "            descriptions.append(item.find('p', class_='line-clamp-2 h-10 shrink grow basis-0 text-sm font-normal text-zinc-900').text)\n",
    "            job_type_and_salary = item.find_all('p', class_='m-0 flex h-full w-full items-center justify-center overflow-hidden text-ellipsis text-xs font-medium text-zinc-600')\n",
    "            \n",
    "            if len(job_type_and_salary) == 2:\n",
    "                easy_apply.append(job_type_and_salary[0].text.lower() == 'easy apply')\n",
    "                job_types.append(job_type_and_salary[0])\n",
    "                salaries.append(job_type_and_salary[1])\n",
    "                continue\n",
    "            if len(job_type_and_salary) == 3:\n",
    "                easy_apply.append(job_type_and_salary[0].text.lower() == 'easy apply')\n",
    "                job_types.append(job_type_and_salary[1])\n",
    "                salaries.append(job_type_and_salary[2])\n",
    "                continue\n",
    "            easy_apply.append(job_type_and_salary[0].text.lower() == 'easy apply')\n",
    "            job_types.append(job_type_and_salary[0])\n",
    "            salaries.append('Not Provided')\n",
    "        for company in head:\n",
    "            companies.append(company.span.text)\n",
    "        return {'company': companies, 'links' : links, 'description' : descriptions, 'job_type' : job_types, 'salary' : salaries, 'easy_apply' : easy_apply}\n",
    "    except NoSuchAttributeException as nsae:\n",
    "            print(nsae)"
   ]
  },
  {
   "cell_type": "code",
   "execution_count": null,
   "id": "aeb586cb-4a7d-49e4-80ed-635ff934bb4d",
   "metadata": {},
   "outputs": [],
   "source": [
    "new_driver = webdriver.Chrome()\n",
    "data = gopher_broke(driver=new_driver, url='https://www.dice.com', query='data scientist',location='orlando, fl')"
   ]
  },
  {
   "cell_type": "code",
   "execution_count": null,
   "id": "21a779e4-91f9-45be-8c1d-256b02ca5732",
   "metadata": {},
   "outputs": [],
   "source": [
    "data_chunks = [set(data['links'][idx:idx + 4]) for idx in range(0,len(data['links']), 4)]"
   ]
  },
  {
   "cell_type": "code",
   "execution_count": null,
   "id": "5eeb2d4f-6048-418b-84f9-7b0499928fdb",
   "metadata": {},
   "outputs": [],
   "source": [
    "data['links'] = data_chunks"
   ]
  },
  {
   "cell_type": "code",
   "execution_count": 2,
   "id": "971d768f-f180-4730-9967-bdb5385b7e8b",
   "metadata": {},
   "outputs": [
    {
     "ename": "NameError",
     "evalue": "name 'pd' is not defined",
     "output_type": "error",
     "traceback": [
      "\u001b[0;31m---------------------------------------------------------------------------\u001b[0m",
      "\u001b[0;31mNameError\u001b[0m                                 Traceback (most recent call last)",
      "Cell \u001b[0;32mIn[2], line 1\u001b[0m\n\u001b[0;32m----> 1\u001b[0m df \u001b[38;5;241m=\u001b[39m \u001b[43mpd\u001b[49m\u001b[38;5;241m.\u001b[39mDataFrame(data)\n\u001b[1;32m      2\u001b[0m df\n",
      "\u001b[0;31mNameError\u001b[0m: name 'pd' is not defined"
     ]
    }
   ],
   "source": [
    "df = pd.DataFrame(data)\n",
    "df"
   ]
  },
  {
   "cell_type": "code",
   "execution_count": null,
   "id": "2e79b1d4-07c0-4420-9f3a-d2398e56d187",
   "metadata": {},
   "outputs": [],
   "source": []
  }
 ],
 "metadata": {
  "kernelspec": {
   "display_name": "pytest-demo-z9aLyFen",
   "language": "python",
   "name": "python3"
  },
  "language_info": {
   "codemirror_mode": {
    "name": "ipython",
    "version": 3
   },
   "file_extension": ".py",
   "mimetype": "text/x-python",
   "name": "python",
   "nbconvert_exporter": "python",
   "pygments_lexer": "ipython3",
   "version": "3.12.3"
  }
 },
 "nbformat": 4,
 "nbformat_minor": 5
}
